{
 "cells": [
  {
   "cell_type": "markdown",
   "id": "22bc3b9b",
   "metadata": {},
   "source": [
    "# Avance 3 — Baseline (Predictor de Escalamiento)"
   ]
  },
  {
   "cell_type": "markdown",
   "id": "abc9f5ce",
   "metadata": {},
   "source": [
    "\n",
    "**Objetivo:** establecer un modelo de referencia para `continue` / `clarify` / `handoff` y responder a la rúbrica:\n",
    "- Algoritmo baseline y justificación\n",
    "- Métricas y sub/sobreajuste (learning curve)\n",
    "- Importancia de características\n",
    "- Desempeño mínimo frente a un baseline ingenuo\n"
   ]
  },
  {
   "cell_type": "markdown",
   "id": "96c35953",
   "metadata": {},
   "source": [
    "## 0) Carga de datos"
   ]
  },
  {
   "cell_type": "code",
   "execution_count": 9,
   "id": "2b6379cc",
   "metadata": {},
   "outputs": [
    {
     "name": "stdout",
     "output_type": "stream",
     "text": [
      "Shape: (161, 20)\n"
     ]
    },
    {
     "data": {
      "application/vnd.microsoft.datawrangler.viewer.v0+json": {
       "columns": [
        {
         "name": "index",
         "rawType": "int64",
         "type": "integer"
        },
        {
         "name": "conv_id",
         "rawType": "object",
         "type": "string"
        },
        {
         "name": "turn_id",
         "rawType": "int64",
         "type": "integer"
        },
        {
         "name": "user_text",
         "rawType": "object",
         "type": "string"
        },
        {
         "name": "bot_text",
         "rawType": "object",
         "type": "string"
        },
        {
         "name": "lang",
         "rawType": "object",
         "type": "string"
        },
        {
         "name": "domain",
         "rawType": "object",
         "type": "string"
        },
        {
         "name": "tool_available",
         "rawType": "int64",
         "type": "integer"
        },
        {
         "name": "tool_error",
         "rawType": "int64",
         "type": "integer"
        },
        {
         "name": "tool_timeout",
         "rawType": "int64",
         "type": "integer"
        },
        {
         "name": "n_reprompts_similar",
         "rawType": "int64",
         "type": "integer"
        },
        {
         "name": "confidence_sim",
         "rawType": "float64",
         "type": "float"
        },
        {
         "name": "intent_margin_sim",
         "rawType": "float64",
         "type": "float"
        },
        {
         "name": "has_dates",
         "rawType": "int64",
         "type": "integer"
        },
        {
         "name": "has_money",
         "rawType": "int64",
         "type": "integer"
        },
        {
         "name": "has_url",
         "rawType": "int64",
         "type": "integer"
        },
        {
         "name": "imperative_flag",
         "rawType": "int64",
         "type": "integer"
        },
        {
         "name": "wh_flag",
         "rawType": "int64",
         "type": "integer"
        },
        {
         "name": "topic_risky",
         "rawType": "int64",
         "type": "integer"
        },
        {
         "name": "final_label",
         "rawType": "object",
         "type": "string"
        },
        {
         "name": "timestamp",
         "rawType": "object",
         "type": "string"
        }
       ],
       "ref": "6bade9ea-459d-4bbe-8dd8-24125fbfd33c",
       "rows": [
        [
         "0",
         "c_001",
         "1",
         "Quiero reservar un vuelo a Cancún para la próxima semana",
         "Claro, ¿para cuántos pasajeros y qué fechas exactas buscas?",
         "es",
         "reservas",
         "1",
         "0",
         "0",
         "0",
         "0.72",
         "0.31",
         "1",
         "0",
         "0",
         "1",
         "0",
         "0",
         "clarify",
         "2025-10-02T18:00:00Z"
        ],
        [
         "1",
         "c_001",
         "2",
         "para 2 adultos, del 10 al 15 de oct",
         "Perfecto, buscando vuelos para 2 adultos a Cancún del 10 al 15 de Octubre. Un momento por favor.",
         "es",
         "reservas",
         "1",
         "0",
         "0",
         "0",
         "0.98",
         "0.75",
         "1",
         "0",
         "0",
         "0",
         "0",
         "0",
         "continue",
         "2025-10-02T18:00:45Z"
        ],
        [
         "2",
         "c_002",
         "1",
         "How much is the total for my cart? Include taxes.",
         "Your cart total is $1,450.50 USD, including a 16% tax.",
         "en",
         "calculo",
         "1",
         "0",
         "0",
         "0",
         "0.95",
         "0.6",
         "0",
         "0",
         "0",
         "0",
         "1",
         "0",
         "continue",
         "2025-10-02T18:01:10Z"
        ]
       ],
       "shape": {
        "columns": 20,
        "rows": 3
       }
      },
      "text/html": [
       "<div>\n",
       "<style scoped>\n",
       "    .dataframe tbody tr th:only-of-type {\n",
       "        vertical-align: middle;\n",
       "    }\n",
       "\n",
       "    .dataframe tbody tr th {\n",
       "        vertical-align: top;\n",
       "    }\n",
       "\n",
       "    .dataframe thead th {\n",
       "        text-align: right;\n",
       "    }\n",
       "</style>\n",
       "<table border=\"1\" class=\"dataframe\">\n",
       "  <thead>\n",
       "    <tr style=\"text-align: right;\">\n",
       "      <th></th>\n",
       "      <th>conv_id</th>\n",
       "      <th>turn_id</th>\n",
       "      <th>user_text</th>\n",
       "      <th>bot_text</th>\n",
       "      <th>lang</th>\n",
       "      <th>domain</th>\n",
       "      <th>tool_available</th>\n",
       "      <th>tool_error</th>\n",
       "      <th>tool_timeout</th>\n",
       "      <th>n_reprompts_similar</th>\n",
       "      <th>confidence_sim</th>\n",
       "      <th>intent_margin_sim</th>\n",
       "      <th>has_dates</th>\n",
       "      <th>has_money</th>\n",
       "      <th>has_url</th>\n",
       "      <th>imperative_flag</th>\n",
       "      <th>wh_flag</th>\n",
       "      <th>topic_risky</th>\n",
       "      <th>final_label</th>\n",
       "      <th>timestamp</th>\n",
       "    </tr>\n",
       "  </thead>\n",
       "  <tbody>\n",
       "    <tr>\n",
       "      <th>0</th>\n",
       "      <td>c_001</td>\n",
       "      <td>1</td>\n",
       "      <td>Quiero reservar un vuelo a Cancún para la próx...</td>\n",
       "      <td>Claro, ¿para cuántos pasajeros y qué fechas ex...</td>\n",
       "      <td>es</td>\n",
       "      <td>reservas</td>\n",
       "      <td>1</td>\n",
       "      <td>0</td>\n",
       "      <td>0</td>\n",
       "      <td>0</td>\n",
       "      <td>0.72</td>\n",
       "      <td>0.31</td>\n",
       "      <td>1</td>\n",
       "      <td>0</td>\n",
       "      <td>0</td>\n",
       "      <td>1</td>\n",
       "      <td>0</td>\n",
       "      <td>0</td>\n",
       "      <td>clarify</td>\n",
       "      <td>2025-10-02T18:00:00Z</td>\n",
       "    </tr>\n",
       "    <tr>\n",
       "      <th>1</th>\n",
       "      <td>c_001</td>\n",
       "      <td>2</td>\n",
       "      <td>para 2 adultos, del 10 al 15 de oct</td>\n",
       "      <td>Perfecto, buscando vuelos para 2 adultos a Can...</td>\n",
       "      <td>es</td>\n",
       "      <td>reservas</td>\n",
       "      <td>1</td>\n",
       "      <td>0</td>\n",
       "      <td>0</td>\n",
       "      <td>0</td>\n",
       "      <td>0.98</td>\n",
       "      <td>0.75</td>\n",
       "      <td>1</td>\n",
       "      <td>0</td>\n",
       "      <td>0</td>\n",
       "      <td>0</td>\n",
       "      <td>0</td>\n",
       "      <td>0</td>\n",
       "      <td>continue</td>\n",
       "      <td>2025-10-02T18:00:45Z</td>\n",
       "    </tr>\n",
       "    <tr>\n",
       "      <th>2</th>\n",
       "      <td>c_002</td>\n",
       "      <td>1</td>\n",
       "      <td>How much is the total for my cart? Include taxes.</td>\n",
       "      <td>Your cart total is $1,450.50 USD, including a ...</td>\n",
       "      <td>en</td>\n",
       "      <td>calculo</td>\n",
       "      <td>1</td>\n",
       "      <td>0</td>\n",
       "      <td>0</td>\n",
       "      <td>0</td>\n",
       "      <td>0.95</td>\n",
       "      <td>0.60</td>\n",
       "      <td>0</td>\n",
       "      <td>0</td>\n",
       "      <td>0</td>\n",
       "      <td>0</td>\n",
       "      <td>1</td>\n",
       "      <td>0</td>\n",
       "      <td>continue</td>\n",
       "      <td>2025-10-02T18:01:10Z</td>\n",
       "    </tr>\n",
       "  </tbody>\n",
       "</table>\n",
       "</div>"
      ],
      "text/plain": [
       "  conv_id  turn_id                                          user_text  \\\n",
       "0   c_001        1  Quiero reservar un vuelo a Cancún para la próx...   \n",
       "1   c_001        2                para 2 adultos, del 10 al 15 de oct   \n",
       "2   c_002        1  How much is the total for my cart? Include taxes.   \n",
       "\n",
       "                                            bot_text lang    domain  \\\n",
       "0  Claro, ¿para cuántos pasajeros y qué fechas ex...   es  reservas   \n",
       "1  Perfecto, buscando vuelos para 2 adultos a Can...   es  reservas   \n",
       "2  Your cart total is $1,450.50 USD, including a ...   en   calculo   \n",
       "\n",
       "   tool_available  tool_error  tool_timeout  n_reprompts_similar  \\\n",
       "0               1           0             0                    0   \n",
       "1               1           0             0                    0   \n",
       "2               1           0             0                    0   \n",
       "\n",
       "   confidence_sim  intent_margin_sim  has_dates  has_money  has_url  \\\n",
       "0            0.72               0.31          1          0        0   \n",
       "1            0.98               0.75          1          0        0   \n",
       "2            0.95               0.60          0          0        0   \n",
       "\n",
       "   imperative_flag  wh_flag  topic_risky final_label             timestamp  \n",
       "0                1        0            0     clarify  2025-10-02T18:00:00Z  \n",
       "1                0        0            0    continue  2025-10-02T18:00:45Z  \n",
       "2                0        1            0    continue  2025-10-02T18:01:10Z  "
      ]
     },
     "execution_count": 9,
     "metadata": {},
     "output_type": "execute_result"
    }
   ],
   "source": [
    "\n",
    "import pandas as pd, numpy as np\n",
    "CSV = r\"generated_converted.csv\"\n",
    "df = pd.read_csv(CSV)\n",
    "df['final_label'] = df['final_label'].astype(str).str.strip()\n",
    "df['user_text'] = df['user_text'].fillna(\"\")\n",
    "print(\"Shape:\", df.shape)\n",
    "df.head(3)\n"
   ]
  },
  {
   "cell_type": "markdown",
   "id": "9b25347a",
   "metadata": {},
   "source": [
    "## 0.1) Variables clave y densas derivadas"
   ]
  },
  {
   "cell_type": "code",
   "execution_count": 10,
   "id": "05fb9ba9",
   "metadata": {},
   "outputs": [
    {
     "data": {
      "application/vnd.microsoft.datawrangler.viewer.v0+json": {
       "columns": [
        {
         "name": "index",
         "rawType": "int64",
         "type": "integer"
        },
        {
         "name": "len_chars_user",
         "rawType": "float64",
         "type": "float"
        },
        {
         "name": "len_words_user",
         "rawType": "float64",
         "type": "float"
        },
        {
         "name": "question_marks",
         "rawType": "int64",
         "type": "integer"
        },
        {
         "name": "exclam_marks",
         "rawType": "int64",
         "type": "integer"
        },
        {
         "name": "n_reprompts_similar",
         "rawType": "float64",
         "type": "float"
        },
        {
         "name": "tool_error",
         "rawType": "float64",
         "type": "float"
        },
        {
         "name": "tool_timeout",
         "rawType": "float64",
         "type": "float"
        },
        {
         "name": "confidence_sim",
         "rawType": "float64",
         "type": "float"
        },
        {
         "name": "intent_margin_sim",
         "rawType": "float64",
         "type": "float"
        },
        {
         "name": "has_dates",
         "rawType": "int64",
         "type": "integer"
        },
        {
         "name": "has_money",
         "rawType": "int64",
         "type": "integer"
        },
        {
         "name": "has_url",
         "rawType": "int64",
         "type": "integer"
        },
        {
         "name": "imperative_flag",
         "rawType": "int64",
         "type": "integer"
        },
        {
         "name": "wh_flag",
         "rawType": "int64",
         "type": "integer"
        },
        {
         "name": "topic_risky",
         "rawType": "int64",
         "type": "integer"
        },
        {
         "name": "tool_available",
         "rawType": "int64",
         "type": "integer"
        }
       ],
       "ref": "fbdb17b1-786f-4d2e-94fc-bb062c8249ad",
       "rows": [
        [
         "0",
         "4.04305126783455",
         "2.3978952727983707",
         "0",
         "0",
         "0.0",
         "0.0",
         "0.0",
         "0.72",
         "0.31",
         "1",
         "0",
         "0",
         "1",
         "0",
         "0",
         "1"
        ],
        [
         "1",
         "3.58351893845611",
         "2.302585092994046",
         "0",
         "0",
         "0.0",
         "0.0",
         "0.0",
         "0.98",
         "0.75",
         "1",
         "0",
         "0",
         "0",
         "0",
         "0",
         "1"
        ],
        [
         "2",
         "3.912023005428146",
         "2.3978952727983707",
         "1",
         "0",
         "0.0",
         "0.0",
         "0.0",
         "0.95",
         "0.6",
         "0",
         "0",
         "0",
         "0",
         "1",
         "0",
         "1"
        ]
       ],
       "shape": {
        "columns": 16,
        "rows": 3
       }
      },
      "text/html": [
       "<div>\n",
       "<style scoped>\n",
       "    .dataframe tbody tr th:only-of-type {\n",
       "        vertical-align: middle;\n",
       "    }\n",
       "\n",
       "    .dataframe tbody tr th {\n",
       "        vertical-align: top;\n",
       "    }\n",
       "\n",
       "    .dataframe thead th {\n",
       "        text-align: right;\n",
       "    }\n",
       "</style>\n",
       "<table border=\"1\" class=\"dataframe\">\n",
       "  <thead>\n",
       "    <tr style=\"text-align: right;\">\n",
       "      <th></th>\n",
       "      <th>len_chars_user</th>\n",
       "      <th>len_words_user</th>\n",
       "      <th>question_marks</th>\n",
       "      <th>exclam_marks</th>\n",
       "      <th>n_reprompts_similar</th>\n",
       "      <th>tool_error</th>\n",
       "      <th>tool_timeout</th>\n",
       "      <th>confidence_sim</th>\n",
       "      <th>intent_margin_sim</th>\n",
       "      <th>has_dates</th>\n",
       "      <th>has_money</th>\n",
       "      <th>has_url</th>\n",
       "      <th>imperative_flag</th>\n",
       "      <th>wh_flag</th>\n",
       "      <th>topic_risky</th>\n",
       "      <th>tool_available</th>\n",
       "    </tr>\n",
       "  </thead>\n",
       "  <tbody>\n",
       "    <tr>\n",
       "      <th>0</th>\n",
       "      <td>4.043051</td>\n",
       "      <td>2.397895</td>\n",
       "      <td>0</td>\n",
       "      <td>0</td>\n",
       "      <td>0.0</td>\n",
       "      <td>0.0</td>\n",
       "      <td>0.0</td>\n",
       "      <td>0.72</td>\n",
       "      <td>0.31</td>\n",
       "      <td>1</td>\n",
       "      <td>0</td>\n",
       "      <td>0</td>\n",
       "      <td>1</td>\n",
       "      <td>0</td>\n",
       "      <td>0</td>\n",
       "      <td>1</td>\n",
       "    </tr>\n",
       "    <tr>\n",
       "      <th>1</th>\n",
       "      <td>3.583519</td>\n",
       "      <td>2.302585</td>\n",
       "      <td>0</td>\n",
       "      <td>0</td>\n",
       "      <td>0.0</td>\n",
       "      <td>0.0</td>\n",
       "      <td>0.0</td>\n",
       "      <td>0.98</td>\n",
       "      <td>0.75</td>\n",
       "      <td>1</td>\n",
       "      <td>0</td>\n",
       "      <td>0</td>\n",
       "      <td>0</td>\n",
       "      <td>0</td>\n",
       "      <td>0</td>\n",
       "      <td>1</td>\n",
       "    </tr>\n",
       "    <tr>\n",
       "      <th>2</th>\n",
       "      <td>3.912023</td>\n",
       "      <td>2.397895</td>\n",
       "      <td>1</td>\n",
       "      <td>0</td>\n",
       "      <td>0.0</td>\n",
       "      <td>0.0</td>\n",
       "      <td>0.0</td>\n",
       "      <td>0.95</td>\n",
       "      <td>0.60</td>\n",
       "      <td>0</td>\n",
       "      <td>0</td>\n",
       "      <td>0</td>\n",
       "      <td>0</td>\n",
       "      <td>1</td>\n",
       "      <td>0</td>\n",
       "      <td>1</td>\n",
       "    </tr>\n",
       "  </tbody>\n",
       "</table>\n",
       "</div>"
      ],
      "text/plain": [
       "   len_chars_user  len_words_user  question_marks  exclam_marks  \\\n",
       "0        4.043051        2.397895               0             0   \n",
       "1        3.583519        2.302585               0             0   \n",
       "2        3.912023        2.397895               1             0   \n",
       "\n",
       "   n_reprompts_similar  tool_error  tool_timeout  confidence_sim  \\\n",
       "0                  0.0         0.0           0.0            0.72   \n",
       "1                  0.0         0.0           0.0            0.98   \n",
       "2                  0.0         0.0           0.0            0.95   \n",
       "\n",
       "   intent_margin_sim  has_dates  has_money  has_url  imperative_flag  wh_flag  \\\n",
       "0               0.31          1          0        0                1        0   \n",
       "1               0.75          1          0        0                0        0   \n",
       "2               0.60          0          0        0                0        1   \n",
       "\n",
       "   topic_risky  tool_available  \n",
       "0            0               1  \n",
       "1            0               1  \n",
       "2            0               1  "
      ]
     },
     "execution_count": 10,
     "metadata": {},
     "output_type": "execute_result"
    }
   ],
   "source": [
    "\n",
    "target = 'final_label'\n",
    "text_col = 'user_text'\n",
    "dense_cols = [\n",
    "    'n_reprompts_similar','tool_error','tool_timeout',\n",
    "    'confidence_sim','intent_margin_sim',\n",
    "    'has_dates','has_money','has_url','imperative_flag','wh_flag','topic_risky','tool_available'\n",
    "]\n",
    "for c in dense_cols:\n",
    "    if c not in df.columns: df[c] = 0\n",
    "\n",
    "import numpy as np, pandas as pd\n",
    "def build_dense(frame):\n",
    "    s = frame[text_col].fillna(\"\")\n",
    "    words = s.str.split()\n",
    "    D = pd.DataFrame({\n",
    "        'len_chars_user': s.str.len(),\n",
    "        'len_words_user': words.apply(len),\n",
    "        'question_marks': s.str.count(r'\\?'),\n",
    "        'exclam_marks': s.str.count(r'!'),\n",
    "        'n_reprompts_similar': frame['n_reprompts_similar'].fillna(0).astype(float),\n",
    "        'tool_error': frame['tool_error'].fillna(0).astype(float),\n",
    "        'tool_timeout': frame['tool_timeout'].fillna(0).astype(float),\n",
    "        'confidence_sim': frame['confidence_sim'].fillna(0.0).astype(float),\n",
    "        'intent_margin_sim': frame['intent_margin_sim'].fillna(0.0).astype(float),\n",
    "        'has_dates': frame['has_dates'].fillna(0).astype(int),\n",
    "        'has_money': frame['has_money'].fillna(0).astype(int),\n",
    "        'has_url': frame['has_url'].fillna(0).astype(int),\n",
    "        'imperative_flag': frame['imperative_flag'].fillna(0).astype(int),\n",
    "        'wh_flag': frame['wh_flag'].fillna(0).astype(int),\n",
    "        'topic_risky': frame['topic_risky'].fillna(0).astype(int),\n",
    "        'tool_available': frame['tool_available'].fillna(0).astype(int),\n",
    "    })\n",
    "    D['len_chars_user'] = np.log1p(D['len_chars_user'])\n",
    "    D['len_words_user'] = np.log1p(D['len_words_user'])\n",
    "    D['n_reprompts_similar'] = np.log1p(D['n_reprompts_similar'])\n",
    "    return D\n",
    "\n",
    "dense_derived = build_dense(df)\n",
    "dense_derived.head(3)\n"
   ]
  },
  {
   "cell_type": "markdown",
   "id": "cc144acd",
   "metadata": {},
   "source": [
    "## 1) Split train/test"
   ]
  },
  {
   "cell_type": "code",
   "execution_count": 11,
   "id": "22d06a59",
   "metadata": {},
   "outputs": [
    {
     "data": {
      "text/plain": [
       "((128,), (128, 16))"
      ]
     },
     "execution_count": 11,
     "metadata": {},
     "output_type": "execute_result"
    }
   ],
   "source": [
    "\n",
    "from sklearn.model_selection import train_test_split\n",
    "X_text = df[text_col]\n",
    "X_num  = dense_derived\n",
    "y = df[target]\n",
    "X_text_tr, X_text_te, X_num_tr, X_num_te, y_tr, y_te = train_test_split(\n",
    "    X_text, X_num, y, test_size=0.2, random_state=42, stratify=y\n",
    ")\n",
    "X_text_tr.shape, X_num_tr.shape\n"
   ]
  },
  {
   "cell_type": "markdown",
   "id": "697e03b5",
   "metadata": {},
   "source": [
    "## 2) Baselines (Dummy y LogReg OvR)"
   ]
  },
  {
   "cell_type": "code",
   "execution_count": 12,
   "id": "7575b5e7",
   "metadata": {},
   "outputs": [
    {
     "name": "stdout",
     "output_type": "stream",
     "text": [
      "Dummy F1 macro (test): 0.208\n",
      "LogReg F1 macro (test): 0.971\n",
      "              precision    recall  f1-score   support\n",
      "\n",
      "     clarify      0.900     1.000     0.947         9\n",
      "    continue      1.000     0.933     0.966        15\n",
      "     handoff      1.000     1.000     1.000         9\n",
      "\n",
      "    accuracy                          0.970        33\n",
      "   macro avg      0.967     0.978     0.971        33\n",
      "weighted avg      0.973     0.970     0.970        33\n",
      "\n"
     ]
    },
    {
     "name": "stderr",
     "output_type": "stream",
     "text": [
      "c:\\Users\\Admin\\AppData\\Local\\Programs\\Python\\Python310\\lib\\site-packages\\sklearn\\linear_model\\_logistic.py:1256: FutureWarning: 'multi_class' was deprecated in version 1.5 and will be removed in 1.7. Use OneVsRestClassifier(LogisticRegression(..)) instead. Leave it to its default value to avoid this warning.\n",
      "  warnings.warn(\n"
     ]
    },
    {
     "data": {
      "text/plain": [
       "array([[ 9,  0,  0],\n",
       "       [ 1, 14,  0],\n",
       "       [ 0,  0,  9]])"
      ]
     },
     "execution_count": 12,
     "metadata": {},
     "output_type": "execute_result"
    }
   ],
   "source": [
    "\n",
    "from sklearn.dummy import DummyClassifier\n",
    "from sklearn.metrics import f1_score, classification_report, confusion_matrix, accuracy_score\n",
    "\n",
    "dummy = DummyClassifier(strategy='most_frequent').fit(\n",
    "    pd.DataFrame({'a': [0]*len(y_tr)}), y_tr\n",
    ")\n",
    "y_hat_te_dummy = dummy.predict(pd.DataFrame({'a':[0]*len(y_te)}))\n",
    "print(\"Dummy F1 macro (test):\", round(f1_score(y_te, y_hat_te_dummy, average='macro'),3))\n",
    "\n",
    "from sklearn.feature_extraction.text import TfidfVectorizer\n",
    "from sklearn.preprocessing import StandardScaler\n",
    "from sklearn.compose import ColumnTransformer\n",
    "from sklearn.pipeline import Pipeline\n",
    "from sklearn.linear_model import LogisticRegression\n",
    "import numpy as np\n",
    "\n",
    "tfidf_word = TfidfVectorizer(ngram_range=(1,2), min_df=1, strip_accents='unicode', lowercase=True, max_features=20000)\n",
    "tfidf_char = TfidfVectorizer(analyzer='char', ngram_range=(3,5), min_df=1, lowercase=True, max_features=8000)\n",
    "\n",
    "def make_X(text_series, num_df):\n",
    "    return np.column_stack([text_series.values, num_df.values])\n",
    "\n",
    "X_tr = make_X(X_text_tr, X_num_tr)\n",
    "X_te = make_X(X_text_te, X_num_te)\n",
    "\n",
    "pre = ColumnTransformer([\n",
    "    ('word', tfidf_word, 0),\n",
    "    ('char', tfidf_char, 0),\n",
    "    ('num',  StandardScaler(with_mean=True), slice(1, None)),\n",
    "], verbose_feature_names_out=False)\n",
    "\n",
    "pipe = Pipeline([('pre', pre),\n",
    "                 ('clf', LogisticRegression(max_iter=600, class_weight='balanced', multi_class='ovr'))])\n",
    "\n",
    "pipe.fit(X_tr, y_tr)\n",
    "y_hat_te = pipe.predict(X_te)\n",
    "print(\"LogReg F1 macro (test):\", round(f1_score(y_te, y_hat_te, average='macro'),3))\n",
    "print(classification_report(y_te, y_hat_te, digits=3))\n",
    "cm = confusion_matrix(y_te, y_hat_te, labels=sorted(y.unique()))\n",
    "cm\n"
   ]
  },
  {
   "cell_type": "markdown",
   "id": "db71ba65",
   "metadata": {},
   "source": [
    "## 3) Learning curve (sub/sobreajuste)"
   ]
  },
  {
   "cell_type": "code",
   "execution_count": 13,
   "id": "ca347a06",
   "metadata": {},
   "outputs": [
    {
     "name": "stderr",
     "output_type": "stream",
     "text": [
      "c:\\Users\\Admin\\AppData\\Local\\Programs\\Python\\Python310\\lib\\site-packages\\sklearn\\linear_model\\_logistic.py:1256: FutureWarning: 'multi_class' was deprecated in version 1.5 and will be removed in 1.7. Use OneVsRestClassifier(LogisticRegression(..)) instead. Leave it to its default value to avoid this warning.\n",
      "  warnings.warn(\n",
      "c:\\Users\\Admin\\AppData\\Local\\Programs\\Python\\Python310\\lib\\site-packages\\sklearn\\linear_model\\_logistic.py:1256: FutureWarning: 'multi_class' was deprecated in version 1.5 and will be removed in 1.7. Use OneVsRestClassifier(LogisticRegression(..)) instead. Leave it to its default value to avoid this warning.\n",
      "  warnings.warn(\n",
      "c:\\Users\\Admin\\AppData\\Local\\Programs\\Python\\Python310\\lib\\site-packages\\sklearn\\linear_model\\_logistic.py:1256: FutureWarning: 'multi_class' was deprecated in version 1.5 and will be removed in 1.7. Use OneVsRestClassifier(LogisticRegression(..)) instead. Leave it to its default value to avoid this warning.\n",
      "  warnings.warn(\n",
      "c:\\Users\\Admin\\AppData\\Local\\Programs\\Python\\Python310\\lib\\site-packages\\sklearn\\linear_model\\_logistic.py:1256: FutureWarning: 'multi_class' was deprecated in version 1.5 and will be removed in 1.7. Use OneVsRestClassifier(LogisticRegression(..)) instead. Leave it to its default value to avoid this warning.\n",
      "  warnings.warn(\n",
      "c:\\Users\\Admin\\AppData\\Local\\Programs\\Python\\Python310\\lib\\site-packages\\sklearn\\linear_model\\_logistic.py:1256: FutureWarning: 'multi_class' was deprecated in version 1.5 and will be removed in 1.7. Use OneVsRestClassifier(LogisticRegression(..)) instead. Leave it to its default value to avoid this warning.\n",
      "  warnings.warn(\n",
      "c:\\Users\\Admin\\AppData\\Local\\Programs\\Python\\Python310\\lib\\site-packages\\sklearn\\linear_model\\_logistic.py:1256: FutureWarning: 'multi_class' was deprecated in version 1.5 and will be removed in 1.7. Use OneVsRestClassifier(LogisticRegression(..)) instead. Leave it to its default value to avoid this warning.\n",
      "  warnings.warn(\n",
      "c:\\Users\\Admin\\AppData\\Local\\Programs\\Python\\Python310\\lib\\site-packages\\sklearn\\linear_model\\_logistic.py:1256: FutureWarning: 'multi_class' was deprecated in version 1.5 and will be removed in 1.7. Use OneVsRestClassifier(LogisticRegression(..)) instead. Leave it to its default value to avoid this warning.\n",
      "  warnings.warn(\n",
      "c:\\Users\\Admin\\AppData\\Local\\Programs\\Python\\Python310\\lib\\site-packages\\sklearn\\linear_model\\_logistic.py:1256: FutureWarning: 'multi_class' was deprecated in version 1.5 and will be removed in 1.7. Use OneVsRestClassifier(LogisticRegression(..)) instead. Leave it to its default value to avoid this warning.\n",
      "  warnings.warn(\n",
      "c:\\Users\\Admin\\AppData\\Local\\Programs\\Python\\Python310\\lib\\site-packages\\sklearn\\linear_model\\_logistic.py:1256: FutureWarning: 'multi_class' was deprecated in version 1.5 and will be removed in 1.7. Use OneVsRestClassifier(LogisticRegression(..)) instead. Leave it to its default value to avoid this warning.\n",
      "  warnings.warn(\n",
      "c:\\Users\\Admin\\AppData\\Local\\Programs\\Python\\Python310\\lib\\site-packages\\sklearn\\linear_model\\_logistic.py:1256: FutureWarning: 'multi_class' was deprecated in version 1.5 and will be removed in 1.7. Use OneVsRestClassifier(LogisticRegression(..)) instead. Leave it to its default value to avoid this warning.\n",
      "  warnings.warn(\n",
      "c:\\Users\\Admin\\AppData\\Local\\Programs\\Python\\Python310\\lib\\site-packages\\sklearn\\linear_model\\_logistic.py:1256: FutureWarning: 'multi_class' was deprecated in version 1.5 and will be removed in 1.7. Use OneVsRestClassifier(LogisticRegression(..)) instead. Leave it to its default value to avoid this warning.\n",
      "  warnings.warn(\n",
      "c:\\Users\\Admin\\AppData\\Local\\Programs\\Python\\Python310\\lib\\site-packages\\sklearn\\linear_model\\_logistic.py:1256: FutureWarning: 'multi_class' was deprecated in version 1.5 and will be removed in 1.7. Use OneVsRestClassifier(LogisticRegression(..)) instead. Leave it to its default value to avoid this warning.\n",
      "  warnings.warn(\n",
      "c:\\Users\\Admin\\AppData\\Local\\Programs\\Python\\Python310\\lib\\site-packages\\sklearn\\linear_model\\_logistic.py:1256: FutureWarning: 'multi_class' was deprecated in version 1.5 and will be removed in 1.7. Use OneVsRestClassifier(LogisticRegression(..)) instead. Leave it to its default value to avoid this warning.\n",
      "  warnings.warn(\n",
      "c:\\Users\\Admin\\AppData\\Local\\Programs\\Python\\Python310\\lib\\site-packages\\sklearn\\linear_model\\_logistic.py:1256: FutureWarning: 'multi_class' was deprecated in version 1.5 and will be removed in 1.7. Use OneVsRestClassifier(LogisticRegression(..)) instead. Leave it to its default value to avoid this warning.\n",
      "  warnings.warn(\n",
      "c:\\Users\\Admin\\AppData\\Local\\Programs\\Python\\Python310\\lib\\site-packages\\sklearn\\linear_model\\_logistic.py:1256: FutureWarning: 'multi_class' was deprecated in version 1.5 and will be removed in 1.7. Use OneVsRestClassifier(LogisticRegression(..)) instead. Leave it to its default value to avoid this warning.\n",
      "  warnings.warn(\n",
      "c:\\Users\\Admin\\AppData\\Local\\Programs\\Python\\Python310\\lib\\site-packages\\sklearn\\linear_model\\_logistic.py:1256: FutureWarning: 'multi_class' was deprecated in version 1.5 and will be removed in 1.7. Use OneVsRestClassifier(LogisticRegression(..)) instead. Leave it to its default value to avoid this warning.\n",
      "  warnings.warn(\n",
      "c:\\Users\\Admin\\AppData\\Local\\Programs\\Python\\Python310\\lib\\site-packages\\sklearn\\linear_model\\_logistic.py:1256: FutureWarning: 'multi_class' was deprecated in version 1.5 and will be removed in 1.7. Use OneVsRestClassifier(LogisticRegression(..)) instead. Leave it to its default value to avoid this warning.\n",
      "  warnings.warn(\n",
      "c:\\Users\\Admin\\AppData\\Local\\Programs\\Python\\Python310\\lib\\site-packages\\sklearn\\linear_model\\_logistic.py:1256: FutureWarning: 'multi_class' was deprecated in version 1.5 and will be removed in 1.7. Use OneVsRestClassifier(LogisticRegression(..)) instead. Leave it to its default value to avoid this warning.\n",
      "  warnings.warn(\n",
      "c:\\Users\\Admin\\AppData\\Local\\Programs\\Python\\Python310\\lib\\site-packages\\sklearn\\linear_model\\_logistic.py:1256: FutureWarning: 'multi_class' was deprecated in version 1.5 and will be removed in 1.7. Use OneVsRestClassifier(LogisticRegression(..)) instead. Leave it to its default value to avoid this warning.\n",
      "  warnings.warn(\n",
      "c:\\Users\\Admin\\AppData\\Local\\Programs\\Python\\Python310\\lib\\site-packages\\sklearn\\linear_model\\_logistic.py:1256: FutureWarning: 'multi_class' was deprecated in version 1.5 and will be removed in 1.7. Use OneVsRestClassifier(LogisticRegression(..)) instead. Leave it to its default value to avoid this warning.\n",
      "  warnings.warn(\n",
      "c:\\Users\\Admin\\AppData\\Local\\Programs\\Python\\Python310\\lib\\site-packages\\sklearn\\linear_model\\_logistic.py:1256: FutureWarning: 'multi_class' was deprecated in version 1.5 and will be removed in 1.7. Use OneVsRestClassifier(LogisticRegression(..)) instead. Leave it to its default value to avoid this warning.\n",
      "  warnings.warn(\n",
      "c:\\Users\\Admin\\AppData\\Local\\Programs\\Python\\Python310\\lib\\site-packages\\sklearn\\linear_model\\_logistic.py:1256: FutureWarning: 'multi_class' was deprecated in version 1.5 and will be removed in 1.7. Use OneVsRestClassifier(LogisticRegression(..)) instead. Leave it to its default value to avoid this warning.\n",
      "  warnings.warn(\n",
      "c:\\Users\\Admin\\AppData\\Local\\Programs\\Python\\Python310\\lib\\site-packages\\sklearn\\linear_model\\_logistic.py:1256: FutureWarning: 'multi_class' was deprecated in version 1.5 and will be removed in 1.7. Use OneVsRestClassifier(LogisticRegression(..)) instead. Leave it to its default value to avoid this warning.\n",
      "  warnings.warn(\n",
      "c:\\Users\\Admin\\AppData\\Local\\Programs\\Python\\Python310\\lib\\site-packages\\sklearn\\linear_model\\_logistic.py:1256: FutureWarning: 'multi_class' was deprecated in version 1.5 and will be removed in 1.7. Use OneVsRestClassifier(LogisticRegression(..)) instead. Leave it to its default value to avoid this warning.\n",
      "  warnings.warn(\n",
      "c:\\Users\\Admin\\AppData\\Local\\Programs\\Python\\Python310\\lib\\site-packages\\sklearn\\linear_model\\_logistic.py:1256: FutureWarning: 'multi_class' was deprecated in version 1.5 and will be removed in 1.7. Use OneVsRestClassifier(LogisticRegression(..)) instead. Leave it to its default value to avoid this warning.\n",
      "  warnings.warn(\n"
     ]
    },
    {
     "data": {
      "image/png": "[encoded data removed]",
      "text/plain": [
       "<Figure size 640x480 with 1 Axes>"
      ]
     },
     "metadata": {},
     "output_type": "display_data"
    }
   ],
   "source": [
    "\n",
    "from sklearn.model_selection import learning_curve\n",
    "import numpy as np, matplotlib.pyplot as plt\n",
    "\n",
    "train_sizes, train_scores, val_scores = learning_curve(\n",
    "    pipe, X_tr, y_tr, cv=5, scoring='f1_macro',\n",
    "    train_sizes=np.linspace(0.1, 1.0, 5), shuffle=True, random_state=42\n",
    ")\n",
    "fig = plt.figure()\n",
    "plt.plot(train_sizes, train_scores.mean(axis=1), marker='o', label='Train')\n",
    "plt.plot(train_sizes, val_scores.mean(axis=1), marker='s', label='CV')\n",
    "plt.xlabel('Training samples'); plt.ylabel('F1 macro'); plt.title('Learning Curve')\n",
    "plt.legend(); plt.show()\n"
   ]
  },
  {
   "cell_type": "markdown",
   "id": "6a23e043",
   "metadata": {},
   "source": [
    "## 4) Importancia de características"
   ]
  },
  {
   "cell_type": "code",
   "execution_count": 14,
   "id": "ee96b9aa",
   "metadata": {},
   "outputs": [
    {
     "name": "stderr",
     "output_type": "stream",
     "text": [
      "c:\\Users\\Admin\\AppData\\Local\\Programs\\Python\\Python310\\lib\\site-packages\\sklearn\\linear_model\\_logistic.py:1256: FutureWarning: 'multi_class' was deprecated in version 1.5 and will be removed in 1.7. Use OneVsRestClassifier(LogisticRegression(..)) instead. Leave it to its default value to avoid this warning.\n",
      "  warnings.warn(\n"
     ]
    },
    {
     "data": {
      "image/png": "[encoded data removed]",
      "text/plain": [
       "<Figure size 640x480 with 1 Axes>"
      ]
     },
     "metadata": {},
     "output_type": "display_data"
    },
    {
     "name": "stderr",
     "output_type": "stream",
     "text": [
      "c:\\Users\\Admin\\AppData\\Local\\Programs\\Python\\Python310\\lib\\site-packages\\sklearn\\linear_model\\_logistic.py:1256: FutureWarning: 'multi_class' was deprecated in version 1.5 and will be removed in 1.7. Use OneVsRestClassifier(LogisticRegression(..)) instead. Leave it to its default value to avoid this warning.\n",
      "  warnings.warn(\n"
     ]
    },
    {
     "data": {
      "application/vnd.microsoft.datawrangler.viewer.v0+json": {
       "columns": [
        {
         "name": "index",
         "rawType": "object",
         "type": "string"
        },
        {
         "name": "neg",
         "rawType": "float64",
         "type": "float"
        },
        {
         "name": "pos",
         "rawType": "float64",
         "type": "float"
        }
       ],
       "ref": "a0785ef7-1a77-48cb-9a22-2757c914d2d6",
       "rows": [
        [
         "ajsdkfhasdkljf",
         "-0.25766654886043544",
         null
        ],
        [
         "cuenta",
         "-0.26741969035177066",
         null
        ],
        [
         "dont",
         null,
         "0.4098478395885516"
        ],
        [
         "dont know",
         null,
         "0.4098478395885516"
        ],
        [
         "el",
         "-0.27739657457467765",
         null
        ],
        [
         "extrae",
         "-0.2932453982848589",
         null
        ],
        [
         "factura",
         "-0.2911056895665176",
         null
        ],
        [
         "failed",
         null,
         "0.38900025457461174"
        ],
        [
         "from",
         "-0.3081524604398241",
         null
        ],
        [
         "hablar",
         null,
         "0.6964554294441098"
        ],
        [
         "hablar con",
         null,
         "0.5268776060754496"
        ],
        [
         "how",
         "-0.33388588043704187",
         null
        ],
        [
         "know",
         null,
         "0.4098478395885516"
        ],
        [
         "mi",
         "-0.47323398631419794",
         null
        ],
        [
         "my",
         null,
         "0.6177592712279854"
        ],
        [
         "my payment",
         null,
         "0.3755625341818729"
        ],
        [
         "no",
         null,
         "1.460799411859505"
        ],
        [
         "no me",
         null,
         "0.3748307568347784"
        ],
        [
         "no se",
         null,
         "0.44620168604757776"
        ],
        [
         "pago",
         null,
         "0.3867610613891128"
        ],
        [
         "para",
         "-0.38160181250804454",
         null
        ],
        [
         "quiero",
         "-0.2651365384155078",
         null
        ],
        [
         "quiero una",
         "-0.3076493741355136",
         null
        ],
        [
         "reservar",
         "-0.4000377764594811",
         null
        ],
        [
         "un",
         "-0.33254810520708955",
         null
        ],
        [
         "want",
         null,
         "0.37987063812111654"
        ],
        [
         "want to",
         null,
         "0.37987063812111654"
        ],
        [
         "what",
         "-0.5900517769976615",
         null
        ],
        [
         "what is",
         "-0.4164847806272609",
         null
        ],
        [
         "with",
         null,
         "0.42596554187897656"
        ]
       ],
       "shape": {
        "columns": 2,
        "rows": 30
       }
      },
      "text/html": [
       "<div>\n",
       "<style scoped>\n",
       "    .dataframe tbody tr th:only-of-type {\n",
       "        vertical-align: middle;\n",
       "    }\n",
       "\n",
       "    .dataframe tbody tr th {\n",
       "        vertical-align: top;\n",
       "    }\n",
       "\n",
       "    .dataframe thead th {\n",
       "        text-align: right;\n",
       "    }\n",
       "</style>\n",
       "<table border=\"1\" class=\"dataframe\">\n",
       "  <thead>\n",
       "    <tr style=\"text-align: right;\">\n",
       "      <th></th>\n",
       "      <th>neg</th>\n",
       "      <th>pos</th>\n",
       "    </tr>\n",
       "  </thead>\n",
       "  <tbody>\n",
       "    <tr>\n",
       "      <th>ajsdkfhasdkljf</th>\n",
       "      <td>-0.257667</td>\n",
       "      <td>NaN</td>\n",
       "    </tr>\n",
       "    <tr>\n",
       "      <th>cuenta</th>\n",
       "      <td>-0.267420</td>\n",
       "      <td>NaN</td>\n",
       "    </tr>\n",
       "    <tr>\n",
       "      <th>dont</th>\n",
       "      <td>NaN</td>\n",
       "      <td>0.409848</td>\n",
       "    </tr>\n",
       "    <tr>\n",
       "      <th>dont know</th>\n",
       "      <td>NaN</td>\n",
       "      <td>0.409848</td>\n",
       "    </tr>\n",
       "    <tr>\n",
       "      <th>el</th>\n",
       "      <td>-0.277397</td>\n",
       "      <td>NaN</td>\n",
       "    </tr>\n",
       "    <tr>\n",
       "      <th>extrae</th>\n",
       "      <td>-0.293245</td>\n",
       "      <td>NaN</td>\n",
       "    </tr>\n",
       "    <tr>\n",
       "      <th>factura</th>\n",
       "      <td>-0.291106</td>\n",
       "      <td>NaN</td>\n",
       "    </tr>\n",
       "    <tr>\n",
       "      <th>failed</th>\n",
       "      <td>NaN</td>\n",
       "      <td>0.389000</td>\n",
       "    </tr>\n",
       "    <tr>\n",
       "      <th>from</th>\n",
       "      <td>-0.308152</td>\n",
       "      <td>NaN</td>\n",
       "    </tr>\n",
       "    <tr>\n",
       "      <th>hablar</th>\n",
       "      <td>NaN</td>\n",
       "      <td>0.696455</td>\n",
       "    </tr>\n",
       "    <tr>\n",
       "      <th>hablar con</th>\n",
       "      <td>NaN</td>\n",
       "      <td>0.526878</td>\n",
       "    </tr>\n",
       "    <tr>\n",
       "      <th>how</th>\n",
       "      <td>-0.333886</td>\n",
       "      <td>NaN</td>\n",
       "    </tr>\n",
       "    <tr>\n",
       "      <th>know</th>\n",
       "      <td>NaN</td>\n",
       "      <td>0.409848</td>\n",
       "    </tr>\n",
       "    <tr>\n",
       "      <th>mi</th>\n",
       "      <td>-0.473234</td>\n",
       "      <td>NaN</td>\n",
       "    </tr>\n",
       "    <tr>\n",
       "      <th>my</th>\n",
       "      <td>NaN</td>\n",
       "      <td>0.617759</td>\n",
       "    </tr>\n",
       "    <tr>\n",
       "      <th>my payment</th>\n",
       "      <td>NaN</td>\n",
       "      <td>0.375563</td>\n",
       "    </tr>\n",
       "    <tr>\n",
       "      <th>no</th>\n",
       "      <td>NaN</td>\n",
       "      <td>1.460799</td>\n",
       "    </tr>\n",
       "    <tr>\n",
       "      <th>no me</th>\n",
       "      <td>NaN</td>\n",
       "      <td>0.374831</td>\n",
       "    </tr>\n",
       "    <tr>\n",
       "      <th>no se</th>\n",
       "      <td>NaN</td>\n",
       "      <td>0.446202</td>\n",
       "    </tr>\n",
       "    <tr>\n",
       "      <th>pago</th>\n",
       "      <td>NaN</td>\n",
       "      <td>0.386761</td>\n",
       "    </tr>\n",
       "    <tr>\n",
       "      <th>para</th>\n",
       "      <td>-0.381602</td>\n",
       "      <td>NaN</td>\n",
       "    </tr>\n",
       "    <tr>\n",
       "      <th>quiero</th>\n",
       "      <td>-0.265137</td>\n",
       "      <td>NaN</td>\n",
       "    </tr>\n",
       "    <tr>\n",
       "      <th>quiero una</th>\n",
       "      <td>-0.307649</td>\n",
       "      <td>NaN</td>\n",
       "    </tr>\n",
       "    <tr>\n",
       "      <th>reservar</th>\n",
       "      <td>-0.400038</td>\n",
       "      <td>NaN</td>\n",
       "    </tr>\n",
       "    <tr>\n",
       "      <th>un</th>\n",
       "      <td>-0.332548</td>\n",
       "      <td>NaN</td>\n",
       "    </tr>\n",
       "    <tr>\n",
       "      <th>want</th>\n",
       "      <td>NaN</td>\n",
       "      <td>0.379871</td>\n",
       "    </tr>\n",
       "    <tr>\n",
       "      <th>want to</th>\n",
       "      <td>NaN</td>\n",
       "      <td>0.379871</td>\n",
       "    </tr>\n",
       "    <tr>\n",
       "      <th>what</th>\n",
       "      <td>-0.590052</td>\n",
       "      <td>NaN</td>\n",
       "    </tr>\n",
       "    <tr>\n",
       "      <th>what is</th>\n",
       "      <td>-0.416485</td>\n",
       "      <td>NaN</td>\n",
       "    </tr>\n",
       "    <tr>\n",
       "      <th>with</th>\n",
       "      <td>NaN</td>\n",
       "      <td>0.425966</td>\n",
       "    </tr>\n",
       "  </tbody>\n",
       "</table>\n",
       "</div>"
      ],
      "text/plain": [
       "                     neg       pos\n",
       "ajsdkfhasdkljf -0.257667       NaN\n",
       "cuenta         -0.267420       NaN\n",
       "dont                 NaN  0.409848\n",
       "dont know            NaN  0.409848\n",
       "el             -0.277397       NaN\n",
       "extrae         -0.293245       NaN\n",
       "factura        -0.291106       NaN\n",
       "failed               NaN  0.389000\n",
       "from           -0.308152       NaN\n",
       "hablar               NaN  0.696455\n",
       "hablar con           NaN  0.526878\n",
       "how            -0.333886       NaN\n",
       "know                 NaN  0.409848\n",
       "mi             -0.473234       NaN\n",
       "my                   NaN  0.617759\n",
       "my payment           NaN  0.375563\n",
       "no                   NaN  1.460799\n",
       "no me                NaN  0.374831\n",
       "no se                NaN  0.446202\n",
       "pago                 NaN  0.386761\n",
       "para           -0.381602       NaN\n",
       "quiero         -0.265137       NaN\n",
       "quiero una     -0.307649       NaN\n",
       "reservar       -0.400038       NaN\n",
       "un             -0.332548       NaN\n",
       "want                 NaN  0.379871\n",
       "want to              NaN  0.379871\n",
       "what           -0.590052       NaN\n",
       "what is        -0.416485       NaN\n",
       "with                 NaN  0.425966"
      ]
     },
     "execution_count": 14,
     "metadata": {},
     "output_type": "execute_result"
    }
   ],
   "source": [
    "from sklearn.pipeline import make_pipeline\n",
    "num_only = make_pipeline(StandardScaler(with_mean=True),\n",
    "                         LogisticRegression(max_iter=600, class_weight='balanced', multi_class='ovr'))\n",
    "num_only.fit(X_num_tr, y_tr)\n",
    "coef = num_only.named_steps['logisticregression'].coef_\n",
    "dense_names = list(X_num_tr.columns)\n",
    "\n",
    "import numpy as np, pandas as pd, matplotlib.pyplot as plt\n",
    "imp_num = pd.Series(np.mean(np.abs(coef), axis=0), index=dense_names).sort_values(ascending=False)\n",
    "\n",
    "fig = plt.figure()\n",
    "plt.barh(range(15), imp_num.head(15).values[::-1])\n",
    "plt.yticks(range(15), imp_num.head(15).index[::-1])\n",
    "plt.title('Top densas por |coef|')\n",
    "plt.tight_layout(); plt.show()\n",
    "\n",
    "text_only = Pipeline([('tfidf', TfidfVectorizer(ngram_range=(1,2), min_df=1, strip_accents='unicode', lowercase=True, max_features=20000)),\n",
    "                      ('lr', LogisticRegression(max_iter=600, class_weight='balanced', multi_class='ovr'))]).fit(X_text_tr, y_tr)\n",
    "vocab = text_only.named_steps['tfidf'].get_feature_names_out()\n",
    "coef = text_only.named_steps['lr'].coef_\n",
    "classes = text_only.named_steps['lr'].classes_\n",
    "\n",
    "def top_tokens(coef, classes, vocab, topn=15):\n",
    "    tables = {}\n",
    "    for i, cls in enumerate(classes):\n",
    "        w = pd.Series(coef[i], index=vocab).sort_values()\n",
    "        tables[cls] = {'neg': w.head(topn), 'pos': w.tail(topn)[::-1]}\n",
    "    return tables\n",
    "\n",
    "tables = top_tokens(coef, classes, vocab, topn=15)\n",
    "cls = 'handoff' if 'handoff' in tables else list(tables.keys())[0]\n",
    "pd.DataFrame(tables[cls])\n"
   ]
  },
  {
   "cell_type": "markdown",
   "id": "854e6d36",
   "metadata": {},
   "source": [
    "## 5) Conclusiones"
   ]
  },
  {
   "cell_type": "markdown",
   "id": "b462ce01",
   "metadata": {},
   "source": [
    "La curva muestra modelo con bajo sesgo y ligera varianza; con el set actual ya rinde alto (CV≈0.90).\n",
    "\n",
    "Acciones: más datos y un toque más de regularización/compresión de texto para estabilizar.\n",
    "\n",
    "El baseline supera claramente al Dummy y es una base sólida para el siguiente avance.\n"
   ]
  }
 ],
 "metadata": {
  "kernelspec": {
   "display_name": "Python 3",
   "language": "python",
   "name": "python3"
  },
  "language_info": {
   "codemirror_mode": {
    "name": "ipython",
    "version": 3
   },
   "file_extension": ".py",
   "mimetype": "text/x-python",
   "name": "python",
   "nbconvert_exporter": "python",
   "pygments_lexer": "ipython3",
   "version": "3.10.0"
  }
 },
 "nbformat": 4,
 "nbformat_minor": 5
}
