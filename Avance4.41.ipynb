{
 "cells": [
  {
   "cell_type": "markdown",
   "id": "606906b9",
   "metadata": {},
   "source": [
    "\n",
    "# **Avance 4 – Modelos Alternativos**  \n",
    "**Proyecto:** Proyecto Integrador\n",
    "\n",
    "**Equipo 41**\n",
    "\n",
    "**Integrantes:**\n",
    "- Benitez Ortega, Luis Ángel — A01795165\n",
    "- Del Valle Azuara, Claudio Luis — A01795773\n",
    "- Islas Blanco, Alejandra — A01794452\n",
    "\n",
    "**Institución:** Tecnológico de Monterrey\n",
    "\n",
    "---\n",
    "\n",
    "## Objetivo de la entrega\n",
    "1. Entrenar **≥6 modelos** de clasificación bajo un **esquema de validación homogéneo**.  \n",
    "2. Evaluar con **≥3 métricas** y registrar **tiempos de entrenamiento**.  \n",
    "3. Seleccionar los **2 mejores modelos**, realizar **ajuste fino de hiperparámetros** y **comparar en test**.  \n",
    "4. **Elegir un modelo final** y justificarlo con base en rendimiento, estabilidad, interpretabilidad y costo computacional.\n"
   ]
  },
  {
   "cell_type": "markdown",
   "id": "9742f641",
   "metadata": {},
   "source": [
    "\n",
    "## 1) Configuración, reproducibilidad y utilidades\n",
    "\n",
    "- Se fijan semillas para reproducibilidad.\n",
    "- Se definen utilidades de cronometraje y formateo de tablas.\n",
    "- Se cargan dependencias estándar de *scikit-learn*.\n"
   ]
  },
  {
   "cell_type": "code",
   "execution_count": 2,
   "id": "9aba43ac",
   "metadata": {},
   "outputs": [],
   "source": [
    "\n",
    "import os, sys, time, json, math, warnings, itertools\n",
    "from pathlib import Path\n",
    "from dataclasses import dataclass\n",
    "import numpy as np\n",
    "import pandas as pd\n",
    "import matplotlib.pyplot as plt\n",
    "\n",
    "RANDOM_STATE = 42\n",
    "np.random.seed(RANDOM_STATE)\n",
    "\n",
    "# Silenciar warnings no críticos\n",
    "warnings.filterwarnings(\"ignore\")\n",
    "\n",
    "# Pretty print helpers\n",
    "def fmt(v, nd=4):\n",
    "    try:\n",
    "        return f\"{v:.{nd}f}\"\n",
    "    except Exception:\n",
    "        return str(v)\n",
    "\n",
    "def title(msg):\n",
    "    print(\"\\n\" + \"=\"*len(msg))\n",
    "    print(msg)\n",
    "    print(\"=\"*len(msg))\n",
    "\n",
    "# Cronómetro simple\n",
    "class Stopwatch:\n",
    "    def __init__(self): self.t0 = None\n",
    "    def start(self): self.t0 = time.perf_counter()\n",
    "    def stop(self): return time.perf_counter() - self.t0 if self.t0 else None\n"
   ]
  },
  {
   "cell_type": "markdown",
   "id": "92d7b810",
   "metadata": {},
   "source": [
    "## 2) Carga de datos"
   ]
  },
  {
   "cell_type": "code",
   "execution_count": 5,
   "id": "fb11e587",
   "metadata": {},
   "outputs": [
    {
     "name": "stdout",
     "output_type": "stream",
     "text": [
      "\n",
      "====================\n",
      "Resumen de los datos\n",
      "====================\n",
      "Ruta de datos: C:\\Users\\Admin\\Downloads\\Avance 4\n",
      "df: (161, 302) | X_train: (128, 301) | X_test: (33, 301)\n",
      "Distribución y_train:\n"
     ]
    }
   ],
   "source": [
    "from pathlib import Path\n",
    "import pandas as pd\n",
    "\n",
    "DATA_DIR = Path('.').resolve()\n",
    "\n",
    "def try_read(path_stem: str):\n",
    "    csv  = DATA_DIR / f\"{path_stem}.csv\"\n",
    "    if csv.exists():\n",
    "        return pd.read_csv(csv)\n",
    "    raise FileNotFoundError(f\"No se encontró {path_stem}.csv en {DATA_DIR}\")\n",
    "\n",
    "# Cargamos engineered_features\n",
    "df = try_read('engineered_features')\n",
    "\n",
    "# Cargar generated_converted si quieres referenciar campos originales\n",
    "try:\n",
    "    df_raw = try_read('generated_converted')\n",
    "except FileNotFoundError:\n",
    "    df_raw = None\n",
    "\n",
    "TARGET_COL = 'final_label'\n",
    "assert TARGET_COL in df.columns, f\"No se encuentra la columna objetivo '{TARGET_COL}' en engineered_features.\"\n",
    "\n",
    "# X/y desde engineered_features\n",
    "y = df[TARGET_COL]\n",
    "X = df.drop(columns=[TARGET_COL])\n",
    "\n",
    "# Split estratificado\n",
    "from sklearn.model_selection import train_test_split\n",
    "X_train, X_test, y_train, y_test = train_test_split(\n",
    "    X, y, test_size=0.2, stratify=y, random_state=42\n",
    ")\n",
    "\n",
    "title('Resumen de los datos')\n",
    "print('Ruta de datos:', DATA_DIR)\n",
    "print('df:', df.shape, '| X_train:', X_train.shape, '| X_test:', X_test.shape)\n",
    "print('Distribución y_train:')\n"
   ]
  },
  {
   "cell_type": "markdown",
   "id": "ee2153c0",
   "metadata": {},
   "source": [
    "\n",
    "## 3) Preprocesamiento\n"
   ]
  },
  {
   "cell_type": "code",
   "execution_count": 7,
   "id": "f8310d9f",
   "metadata": {},
   "outputs": [
    {
     "name": "stdout",
     "output_type": "stream",
     "text": [
      "Numéricas: 301\n"
     ]
    }
   ],
   "source": [
    "\n",
    "from sklearn.compose import ColumnTransformer\n",
    "from sklearn.preprocessing import StandardScaler\n",
    "\n",
    "# En engineered_features todas las columnas de X son numéricas\n",
    "num_cols = list(X_train.columns)\n",
    "\n",
    "preprocess = ColumnTransformer([\n",
    "    (\"num\", StandardScaler(with_mean=False), num_cols),\n",
    "], remainder=\"drop\")\n",
    "\n",
    "print(\"Numéricas:\", len(num_cols))\n"
   ]
  },
  {
   "cell_type": "markdown",
   "id": "d9d96cd5",
   "metadata": {},
   "source": [
    "\n",
    "## 4) Esquema de validación y métricas\n",
    "\n",
    "- **Validación:** `StratifiedKFold(n_splits=5, shuffle=True, random_state=42)`  \n",
    "- **Métrica principal:** `f1_macro`\n",
    "- **Métricas adicionales:** `accuracy`, `precision_macro`, `recall_macro`.  \n",
    "- **Registro de tiempo:** medimos el tiempo total de `cross_validate` (incluye `fit` y `score`).\n"
   ]
  },
  {
   "cell_type": "code",
   "execution_count": 8,
   "id": "f349f664",
   "metadata": {},
   "outputs": [],
   "source": [
    "\n",
    "from sklearn.model_selection import StratifiedKFold, cross_validate\n",
    "from sklearn.pipeline import Pipeline\n",
    "\n",
    "SCORING = [\"f1_macro\", \"accuracy\", \"precision_macro\", \"recall_macro\"]\n",
    "skf = StratifiedKFold(n_splits=5, shuffle=True, random_state=RANDOM_STATE)\n",
    "\n",
    "def eval_model(name, estimator, X, y, scoring=SCORING):\n",
    "    pipe = Pipeline([(\"prep\", preprocess), (\"clf\", estimator)])\n",
    "    sw = Stopwatch(); sw.start()\n",
    "    cv = cross_validate(pipe, X, y, cv=skf, scoring=scoring, n_jobs=-1, return_train_score=False)\n",
    "    elapsed = sw.stop()\n",
    "    row = {\"model\": name, \"cv_time_s\": elapsed}\n",
    "    for m in scoring:\n",
    "        row[f\"{m}_mean\"] = float(np.mean(cv[f\"test_{m}\"]))\n",
    "        row[f\"{m}_std\"]  = float(np.std(cv[f\"test_{m}\"]))\n",
    "    return row\n"
   ]
  },
  {
   "cell_type": "markdown",
   "id": "949df57a",
   "metadata": {},
   "source": [
    "\n",
    "## 5) Modelos candidatos\n"
   ]
  },
  {
   "cell_type": "code",
   "execution_count": 9,
   "id": "1777f21f",
   "metadata": {},
   "outputs": [
    {
     "name": "stdout",
     "output_type": "stream",
     "text": [
      "logreg: f1_macro=0.8397 ± 0.0565 | time=2.4666s\n",
      "linsvc: f1_macro=0.8205 ± 0.0580 | time=1.7043s\n",
      "svc_rbf: f1_macro=0.7224 ± 0.0654 | time=1.6989s\n",
      "rf: f1_macro=0.8101 ± 0.0528 | time=2.1780s\n",
      "hgb: f1_macro=0.8104 ± 0.0634 | time=1.3438s\n",
      "knn: f1_macro=0.4418 ± 0.0938 | time=0.1909s\n",
      "nb: f1_macro=0.7645 ± 0.0245 | time=0.0466s\n",
      "dt: f1_macro=0.7702 ± 0.1159 | time=0.0624s\n",
      "mlp: f1_macro=0.5835 ± 0.1365 | time=0.2208s\n"
     ]
    },
    {
     "data": {
      "application/vnd.microsoft.datawrangler.viewer.v0+json": {
       "columns": [
        {
         "name": "index",
         "rawType": "int64",
         "type": "integer"
        },
        {
         "name": "model",
         "rawType": "object",
         "type": "string"
        },
        {
         "name": "cv_time_s",
         "rawType": "float64",
         "type": "float"
        },
        {
         "name": "f1_macro_mean",
         "rawType": "float64",
         "type": "float"
        },
        {
         "name": "f1_macro_std",
         "rawType": "float64",
         "type": "float"
        },
        {
         "name": "accuracy_mean",
         "rawType": "float64",
         "type": "float"
        },
        {
         "name": "accuracy_std",
         "rawType": "float64",
         "type": "float"
        },
        {
         "name": "precision_macro_mean",
         "rawType": "float64",
         "type": "float"
        },
        {
         "name": "precision_macro_std",
         "rawType": "float64",
         "type": "float"
        },
        {
         "name": "recall_macro_mean",
         "rawType": "float64",
         "type": "float"
        },
        {
         "name": "recall_macro_std",
         "rawType": "float64",
         "type": "float"
        }
       ],
       "ref": "7f714fda-b4e7-41a3-af7c-2f51e0245316",
       "rows": [
        [
         "0",
         "logreg",
         "2.4666376000004675",
         "0.8397112517112518",
         "0.056494629755384745",
         "0.8667692307692307",
         "0.04134542038705434",
         "0.8646642246642248",
         "0.055512819505726146",
         "0.834920634920635",
         "0.050545026438383045"
        ],
        [
         "1",
         "linsvc",
         "1.7042879999989964",
         "0.8204638694638696",
         "0.057979167296662186",
         "0.8507692307692307",
         "0.04806307492865632",
         "0.8338481888481889",
         "0.056663681976876504",
         "0.8222222222222222",
         "0.05642181773706739"
        ],
        [
         "2",
         "hgb",
         "1.3437636999988172",
         "0.8104409872594015",
         "0.06337097314129178",
         "0.844",
         "0.053803059678509284",
         "0.8320940170940172",
         "0.06805938654405035",
         "0.8126984126984127",
         "0.0602024802175012"
        ],
        [
         "3",
         "rf",
         "2.1780113999993773",
         "0.810061753061753",
         "0.05278830032008825",
         "0.8510769230769231",
         "0.03990995782668545",
         "0.8413517963517962",
         "0.05546116173847193",
         "0.8142857142857143",
         "0.049588886831153374"
        ],
        [
         "4",
         "dt",
         "0.062448299999232404",
         "0.7701619443358574",
         "0.11593550855073215",
         "0.8135384615384614",
         "0.08872215789629524",
         "0.7794525844525845",
         "0.11742109721298581",
         "0.7738095238095238",
         "0.11014317624971794"
        ],
        [
         "5",
         "nb",
         "0.046624799999335664",
         "0.7645459916610812",
         "0.024461458406927462",
         "0.8123076923076923",
         "0.017269187938956633",
         "0.7891880341880342",
         "0.03890053361864873",
         "0.7706349206349207",
         "0.021354958804878952"
        ],
        [
         "6",
         "svc_rbf",
         "1.698889200000849",
         "0.7223584129791026",
         "0.06540605057070804",
         "0.7812307692307693",
         "0.03926423911618283",
         "0.7722930337636221",
         "0.0758693658471195",
         "0.7253968253968254",
         "0.04804046333467168"
        ],
        [
         "7",
         "mlp",
         "0.22082959999897867",
         "0.5834780034780034",
         "0.13652464448312646",
         "0.6643076923076923",
         "0.1003303419449615",
         "0.6034920634920635",
         "0.17514821136272735",
         "0.5912698412698413",
         "0.11506568063136151"
        ],
        [
         "8",
         "knn",
         "0.19094629999926838",
         "0.441771916325996",
         "0.09380627648199678",
         "0.5858461538461539",
         "0.05778065031042709",
         "0.5718373668030419",
         "0.17949794004258499",
         "0.47777777777777775",
         "0.07280853930907757"
        ]
       ],
       "shape": {
        "columns": 10,
        "rows": 9
       }
      },
      "text/html": [
       "<div>\n",
       "<style scoped>\n",
       "    .dataframe tbody tr th:only-of-type {\n",
       "        vertical-align: middle;\n",
       "    }\n",
       "\n",
       "    .dataframe tbody tr th {\n",
       "        vertical-align: top;\n",
       "    }\n",
       "\n",
       "    .dataframe thead th {\n",
       "        text-align: right;\n",
       "    }\n",
       "</style>\n",
       "<table border=\"1\" class=\"dataframe\">\n",
       "  <thead>\n",
       "    <tr style=\"text-align: right;\">\n",
       "      <th></th>\n",
       "      <th>model</th>\n",
       "      <th>cv_time_s</th>\n",
       "      <th>f1_macro_mean</th>\n",
       "      <th>f1_macro_std</th>\n",
       "      <th>accuracy_mean</th>\n",
       "      <th>accuracy_std</th>\n",
       "      <th>precision_macro_mean</th>\n",
       "      <th>precision_macro_std</th>\n",
       "      <th>recall_macro_mean</th>\n",
       "      <th>recall_macro_std</th>\n",
       "    </tr>\n",
       "  </thead>\n",
       "  <tbody>\n",
       "    <tr>\n",
       "      <th>0</th>\n",
       "      <td>logreg</td>\n",
       "      <td>2.466638</td>\n",
       "      <td>0.839711</td>\n",
       "      <td>0.056495</td>\n",
       "      <td>0.866769</td>\n",
       "      <td>0.041345</td>\n",
       "      <td>0.864664</td>\n",
       "      <td>0.055513</td>\n",
       "      <td>0.834921</td>\n",
       "      <td>0.050545</td>\n",
       "    </tr>\n",
       "    <tr>\n",
       "      <th>1</th>\n",
       "      <td>linsvc</td>\n",
       "      <td>1.704288</td>\n",
       "      <td>0.820464</td>\n",
       "      <td>0.057979</td>\n",
       "      <td>0.850769</td>\n",
       "      <td>0.048063</td>\n",
       "      <td>0.833848</td>\n",
       "      <td>0.056664</td>\n",
       "      <td>0.822222</td>\n",
       "      <td>0.056422</td>\n",
       "    </tr>\n",
       "    <tr>\n",
       "      <th>2</th>\n",
       "      <td>hgb</td>\n",
       "      <td>1.343764</td>\n",
       "      <td>0.810441</td>\n",
       "      <td>0.063371</td>\n",
       "      <td>0.844000</td>\n",
       "      <td>0.053803</td>\n",
       "      <td>0.832094</td>\n",
       "      <td>0.068059</td>\n",
       "      <td>0.812698</td>\n",
       "      <td>0.060202</td>\n",
       "    </tr>\n",
       "    <tr>\n",
       "      <th>3</th>\n",
       "      <td>rf</td>\n",
       "      <td>2.178011</td>\n",
       "      <td>0.810062</td>\n",
       "      <td>0.052788</td>\n",
       "      <td>0.851077</td>\n",
       "      <td>0.039910</td>\n",
       "      <td>0.841352</td>\n",
       "      <td>0.055461</td>\n",
       "      <td>0.814286</td>\n",
       "      <td>0.049589</td>\n",
       "    </tr>\n",
       "    <tr>\n",
       "      <th>4</th>\n",
       "      <td>dt</td>\n",
       "      <td>0.062448</td>\n",
       "      <td>0.770162</td>\n",
       "      <td>0.115936</td>\n",
       "      <td>0.813538</td>\n",
       "      <td>0.088722</td>\n",
       "      <td>0.779453</td>\n",
       "      <td>0.117421</td>\n",
       "      <td>0.773810</td>\n",
       "      <td>0.110143</td>\n",
       "    </tr>\n",
       "    <tr>\n",
       "      <th>5</th>\n",
       "      <td>nb</td>\n",
       "      <td>0.046625</td>\n",
       "      <td>0.764546</td>\n",
       "      <td>0.024461</td>\n",
       "      <td>0.812308</td>\n",
       "      <td>0.017269</td>\n",
       "      <td>0.789188</td>\n",
       "      <td>0.038901</td>\n",
       "      <td>0.770635</td>\n",
       "      <td>0.021355</td>\n",
       "    </tr>\n",
       "    <tr>\n",
       "      <th>6</th>\n",
       "      <td>svc_rbf</td>\n",
       "      <td>1.698889</td>\n",
       "      <td>0.722358</td>\n",
       "      <td>0.065406</td>\n",
       "      <td>0.781231</td>\n",
       "      <td>0.039264</td>\n",
       "      <td>0.772293</td>\n",
       "      <td>0.075869</td>\n",
       "      <td>0.725397</td>\n",
       "      <td>0.048040</td>\n",
       "    </tr>\n",
       "    <tr>\n",
       "      <th>7</th>\n",
       "      <td>mlp</td>\n",
       "      <td>0.220830</td>\n",
       "      <td>0.583478</td>\n",
       "      <td>0.136525</td>\n",
       "      <td>0.664308</td>\n",
       "      <td>0.100330</td>\n",
       "      <td>0.603492</td>\n",
       "      <td>0.175148</td>\n",
       "      <td>0.591270</td>\n",
       "      <td>0.115066</td>\n",
       "    </tr>\n",
       "    <tr>\n",
       "      <th>8</th>\n",
       "      <td>knn</td>\n",
       "      <td>0.190946</td>\n",
       "      <td>0.441772</td>\n",
       "      <td>0.093806</td>\n",
       "      <td>0.585846</td>\n",
       "      <td>0.057781</td>\n",
       "      <td>0.571837</td>\n",
       "      <td>0.179498</td>\n",
       "      <td>0.477778</td>\n",
       "      <td>0.072809</td>\n",
       "    </tr>\n",
       "  </tbody>\n",
       "</table>\n",
       "</div>"
      ],
      "text/plain": [
       "     model  cv_time_s  f1_macro_mean  f1_macro_std  accuracy_mean  \\\n",
       "0   logreg   2.466638       0.839711      0.056495       0.866769   \n",
       "1   linsvc   1.704288       0.820464      0.057979       0.850769   \n",
       "2      hgb   1.343764       0.810441      0.063371       0.844000   \n",
       "3       rf   2.178011       0.810062      0.052788       0.851077   \n",
       "4       dt   0.062448       0.770162      0.115936       0.813538   \n",
       "5       nb   0.046625       0.764546      0.024461       0.812308   \n",
       "6  svc_rbf   1.698889       0.722358      0.065406       0.781231   \n",
       "7      mlp   0.220830       0.583478      0.136525       0.664308   \n",
       "8      knn   0.190946       0.441772      0.093806       0.585846   \n",
       "\n",
       "   accuracy_std  precision_macro_mean  precision_macro_std  recall_macro_mean  \\\n",
       "0      0.041345              0.864664             0.055513           0.834921   \n",
       "1      0.048063              0.833848             0.056664           0.822222   \n",
       "2      0.053803              0.832094             0.068059           0.812698   \n",
       "3      0.039910              0.841352             0.055461           0.814286   \n",
       "4      0.088722              0.779453             0.117421           0.773810   \n",
       "5      0.017269              0.789188             0.038901           0.770635   \n",
       "6      0.039264              0.772293             0.075869           0.725397   \n",
       "7      0.100330              0.603492             0.175148           0.591270   \n",
       "8      0.057781              0.571837             0.179498           0.477778   \n",
       "\n",
       "   recall_macro_std  \n",
       "0          0.050545  \n",
       "1          0.056422  \n",
       "2          0.060202  \n",
       "3          0.049589  \n",
       "4          0.110143  \n",
       "5          0.021355  \n",
       "6          0.048040  \n",
       "7          0.115066  \n",
       "8          0.072809  "
      ]
     },
     "execution_count": 9,
     "metadata": {},
     "output_type": "execute_result"
    }
   ],
   "source": [
    "\n",
    "from sklearn.linear_model import LogisticRegression\n",
    "from sklearn.svm import LinearSVC, SVC\n",
    "from sklearn.ensemble import RandomForestClassifier, HistGradientBoostingClassifier\n",
    "from sklearn.neighbors import KNeighborsClassifier\n",
    "from sklearn.naive_bayes import GaussianNB\n",
    "from sklearn.tree import DecisionTreeClassifier\n",
    "from sklearn.neural_network import MLPClassifier\n",
    "\n",
    "candidatos = {\n",
    "    \"logreg\": LogisticRegression(max_iter=1000),\n",
    "    \"linsvc\": LinearSVC(),\n",
    "    \"svc_rbf\": SVC(probability=True),\n",
    "    \"rf\": RandomForestClassifier(n_estimators=300, random_state=RANDOM_STATE),\n",
    "    \"hgb\": HistGradientBoostingClassifier(random_state=RANDOM_STATE),\n",
    "    \"knn\": KNeighborsClassifier(),\n",
    "    \"nb\": GaussianNB(),\n",
    "    \"dt\": DecisionTreeClassifier(random_state=RANDOM_STATE),\n",
    "    \"mlp\": MLPClassifier(hidden_layer_sizes=(128,), max_iter=300, random_state=RANDOM_STATE)\n",
    "}\n",
    "\n",
    "results = []\n",
    "for name, est in candidatos.items():\n",
    "    try:\n",
    "        row = eval_model(name, est, X_train, y_train, scoring=SCORING)\n",
    "        results.append(row)\n",
    "        print(f\"{name}: f1_macro={fmt(row['f1_macro_mean'])} ± {fmt(row['f1_macro_std'])} | time={fmt(row['cv_time_s'])}s\")\n",
    "    except Exception as e:\n",
    "        print(f\"[WARN] {name} falló: {e}\")\n",
    "\n",
    "df_cv = pd.DataFrame(results).sort_values(by=\"f1_macro_mean\", ascending=False).reset_index(drop=True)\n",
    "df_cv\n"
   ]
  },
  {
   "cell_type": "markdown",
   "id": "736694e8",
   "metadata": {},
   "source": [
    "\n",
    "## 6) Comparativa visual de desempeño\n"
   ]
  },
  {
   "cell_type": "code",
   "execution_count": 10,
   "id": "6b3c74c9",
   "metadata": {},
   "outputs": [
    {
     "data": {
      "image/png": "[encoded data removed]",
      "text/plain": [
       "<Figure size 640x480 with 1 Axes>"
      ]
     },
     "metadata": {},
     "output_type": "display_data"
    },
    {
     "data": {
      "image/png": "[encoded data removed]",
      "text/plain": [
       "<Figure size 640x480 with 1 Axes>"
      ]
     },
     "metadata": {},
     "output_type": "display_data"
    }
   ],
   "source": [
    "\n",
    "plt.figure()\n",
    "plt.bar(df_cv[\"model\"], df_cv[\"f1_macro_mean\"], yerr=df_cv[\"f1_macro_std\"])\n",
    "plt.title(\"F1-macro (CV) por modelo\")\n",
    "plt.xlabel(\"Modelo\")\n",
    "plt.ylabel(\"F1-macro (mean ± std)\")\n",
    "plt.xticks(rotation=45)\n",
    "plt.tight_layout()\n",
    "plt.show()\n",
    "\n",
    "plt.figure()\n",
    "plt.bar(df_cv[\"model\"], df_cv[\"cv_time_s\"])\n",
    "plt.title(\"Tiempo total de CV por modelo (s)\")\n",
    "plt.xlabel(\"Modelo\")\n",
    "plt.ylabel(\"Segundos\")\n",
    "plt.xticks(rotation=45)\n",
    "plt.tight_layout()\n",
    "plt.show()\n"
   ]
  },
  {
   "cell_type": "markdown",
   "id": "e7d98ae8",
   "metadata": {},
   "source": [
    "\n",
    "## 7) Selección de Top-2 y ajuste fino\n",
    "\n",
    "Seleccionamos los **2 mejores** por la métrica principal (`f1_macro_mean`). En caso de empate, considerar `accuracy` o **tiempo**.\n"
   ]
  },
  {
   "cell_type": "code",
   "execution_count": 12,
   "id": "3d153f72",
   "metadata": {},
   "outputs": [
    {
     "name": "stdout",
     "output_type": "stream",
     "text": [
      "Top-2: ['logreg', 'linsvc']\n"
     ]
    }
   ],
   "source": [
    "\n",
    "top2 = df_cv.head(2)[\"model\"].tolist()\n",
    "print(\"Top-2:\", top2)\n",
    "\n",
    "from sklearn.model_selection import GridSearchCV\n",
    "grids = {\n",
    "    \"logreg\": {\n",
    "        \"clf__C\": [0.1, 1.0, 3.0, 10.0],\n",
    "        \"clf__penalty\": [\"l2\"],\n",
    "        \"clf__solver\": [\"lbfgs\", \"liblinear\"]\n",
    "    },\n",
    "    \"linsvc\": {\n",
    "        \"clf__C\": [0.1, 1.0, 3.0, 10.0]\n",
    "    },\n",
    "    \"svc_rbf\": {\n",
    "        \"clf__C\": [0.5, 1, 3, 10],\n",
    "        \"clf__gamma\": [\"scale\", 0.1, 0.01]\n",
    "    },\n",
    "    \"rf\": {\n",
    "        \"clf__n_estimators\": [300, 600],\n",
    "        \"clf__max_depth\": [None, 10, 20, 40],\n",
    "        \"clf__min_samples_split\": [2, 5]\n",
    "    },\n",
    "    \"hgb\": {\n",
    "        \"clf__learning_rate\": [0.03, 0.06, 0.1],\n",
    "        \"clf__max_depth\": [None, 6, 10],\n",
    "        \"clf__l2_regularization\": [0.0, 0.1, 1.0]\n",
    "    },\n",
    "    \"knn\": {\n",
    "        \"clf__n_neighbors\": [3, 5, 9, 15],\n",
    "        \"clf__weights\": [\"uniform\", \"distance\"]\n",
    "    },\n",
    "    \"mlp\": {\n",
    "        \"clf__hidden_layer_sizes\": [(64,), (128,), (64,32)],\n",
    "        \"clf__alpha\": [1e-4, 1e-3, 1e-2]\n",
    "    },\n",
    "    \"dt\": {\n",
    "        \"clf__max_depth\": [None, 6, 12, 20],\n",
    "        \"clf__min_samples_split\": [2, 5, 10]\n",
    "    },\n",
    "    \"nb\": {\n",
    "        \"clf__var_smoothing\": [1e-9, 1e-8, 1e-7]\n",
    "    }\n",
    "}\n",
    "\n",
    "def tune_model(model_name):\n",
    "    est = candidatos[model_name]\n",
    "    pipe = Pipeline([(\"prep\", preprocess), (\"clf\", est)])\n",
    "    grid = grids.get(model_name, {})\n",
    "    gs = GridSearchCV(\n",
    "        pipe, grid, scoring=\"f1_macro\", cv=skf, n_jobs=-1, verbose=1\n",
    "    )\n",
    "    gs.fit(X_train, y_train)\n",
    "    return gs\n"
   ]
  },
  {
   "cell_type": "markdown",
   "id": "4e387388",
   "metadata": {},
   "source": [
    "\n",
    "## 8) Entrenamiento con mejor set de hiperparámetros y evaluación en **test**\n",
    "\n",
    "Reportamos: F1-macro, Accuracy, Precision-macro y Recall-macro\n"
   ]
  },
  {
   "cell_type": "code",
   "execution_count": 16,
   "id": "7edcfd23",
   "metadata": {},
   "outputs": [
    {
     "name": "stdout",
     "output_type": "stream",
     "text": [
      "\n",
      "===================\n",
      "Ajuste fino: logreg\n",
      "===================\n",
      "Fitting 5 folds for each of 8 candidates, totalling 40 fits\n",
      "Mejores parámetros: {'clf__C': 3.0, 'clf__penalty': 'l2', 'clf__solver': 'liblinear'}\n",
      "Mejor score CV (f1_macro): 0.8492\n",
      "\n",
      "Classification report (test):\n",
      "               precision    recall  f1-score   support\n",
      "\n",
      "     clarify       1.00      0.89      0.94         9\n",
      "    continue       1.00      1.00      1.00        15\n",
      "     handoff       0.90      1.00      0.95         9\n",
      "\n",
      "    accuracy                           0.97        33\n",
      "   macro avg       0.97      0.96      0.96        33\n",
      "weighted avg       0.97      0.97      0.97        33\n",
      "\n"
     ]
    },
    {
     "data": {
      "image/png": "[encoded data removed]",
      "text/plain": [
       "<Figure size 640x480 with 2 Axes>"
      ]
     },
     "metadata": {},
     "output_type": "display_data"
    },
    {
     "name": "stdout",
     "output_type": "stream",
     "text": [
      "\n",
      "===================\n",
      "Ajuste fino: linsvc\n",
      "===================\n",
      "Fitting 5 folds for each of 4 candidates, totalling 20 fits\n",
      "Mejores parámetros: {'clf__C': 0.1}\n",
      "Mejor score CV (f1_macro): 0.8492\n",
      "\n",
      "Classification report (test):\n",
      "               precision    recall  f1-score   support\n",
      "\n",
      "     clarify       1.00      0.78      0.88         9\n",
      "    continue       1.00      1.00      1.00        15\n",
      "     handoff       0.82      1.00      0.90         9\n",
      "\n",
      "    accuracy                           0.94        33\n",
      "   macro avg       0.94      0.93      0.92        33\n",
      "weighted avg       0.95      0.94      0.94        33\n",
      "\n"
     ]
    },
    {
     "data": {
      "image/png": "[encoded data removed]",
      "text/plain": [
       "<Figure size 640x480 with 2 Axes>"
      ]
     },
     "metadata": {},
     "output_type": "display_data"
    },
    {
     "data": {
      "application/vnd.microsoft.datawrangler.viewer.v0+json": {
       "columns": [
        {
         "name": "index",
         "rawType": "int64",
         "type": "integer"
        },
        {
         "name": "model",
         "rawType": "object",
         "type": "string"
        },
        {
         "name": "best_params",
         "rawType": "object",
         "type": "unknown"
        },
        {
         "name": "cv_best_f1_macro",
         "rawType": "float64",
         "type": "float"
        },
        {
         "name": "test_f1_macro",
         "rawType": "float64",
         "type": "float"
        },
        {
         "name": "test_accuracy",
         "rawType": "float64",
         "type": "float"
        },
        {
         "name": "test_precision_macro",
         "rawType": "float64",
         "type": "float"
        },
        {
         "name": "test_recall_macro",
         "rawType": "float64",
         "type": "float"
        }
       ],
       "ref": "21322244-0d6f-419a-9a5d-763882b3ea85",
       "rows": [
        [
         "0",
         "logreg",
         "{'clf__C': 3.0, 'clf__penalty': 'l2', 'clf__solver': 'liblinear'}",
         "0.8492297702297702",
         "0.9628482972136223",
         "0.9696969696969697",
         "0.9666666666666667",
         "0.9629629629629629"
        ],
        [
         "1",
         "linsvc",
         "{'clf__C': 0.1}",
         "0.8492297702297702",
         "0.9249999999999999",
         "0.9393939393939394",
         "0.9393939393939394",
         "0.9259259259259259"
        ]
       ],
       "shape": {
        "columns": 7,
        "rows": 2
       }
      },
      "text/html": [
       "<div>\n",
       "<style scoped>\n",
       "    .dataframe tbody tr th:only-of-type {\n",
       "        vertical-align: middle;\n",
       "    }\n",
       "\n",
       "    .dataframe tbody tr th {\n",
       "        vertical-align: top;\n",
       "    }\n",
       "\n",
       "    .dataframe thead th {\n",
       "        text-align: right;\n",
       "    }\n",
       "</style>\n",
       "<table border=\"1\" class=\"dataframe\">\n",
       "  <thead>\n",
       "    <tr style=\"text-align: right;\">\n",
       "      <th></th>\n",
       "      <th>model</th>\n",
       "      <th>best_params</th>\n",
       "      <th>cv_best_f1_macro</th>\n",
       "      <th>test_f1_macro</th>\n",
       "      <th>test_accuracy</th>\n",
       "      <th>test_precision_macro</th>\n",
       "      <th>test_recall_macro</th>\n",
       "    </tr>\n",
       "  </thead>\n",
       "  <tbody>\n",
       "    <tr>\n",
       "      <th>0</th>\n",
       "      <td>logreg</td>\n",
       "      <td>{'clf__C': 3.0, 'clf__penalty': 'l2', 'clf__so...</td>\n",
       "      <td>0.84923</td>\n",
       "      <td>0.962848</td>\n",
       "      <td>0.969697</td>\n",
       "      <td>0.966667</td>\n",
       "      <td>0.962963</td>\n",
       "    </tr>\n",
       "    <tr>\n",
       "      <th>1</th>\n",
       "      <td>linsvc</td>\n",
       "      <td>{'clf__C': 0.1}</td>\n",
       "      <td>0.84923</td>\n",
       "      <td>0.925000</td>\n",
       "      <td>0.939394</td>\n",
       "      <td>0.939394</td>\n",
       "      <td>0.925926</td>\n",
       "    </tr>\n",
       "  </tbody>\n",
       "</table>\n",
       "</div>"
      ],
      "text/plain": [
       "    model                                        best_params  \\\n",
       "0  logreg  {'clf__C': 3.0, 'clf__penalty': 'l2', 'clf__so...   \n",
       "1  linsvc                                    {'clf__C': 0.1}   \n",
       "\n",
       "   cv_best_f1_macro  test_f1_macro  test_accuracy  test_precision_macro  \\\n",
       "0           0.84923       0.962848       0.969697              0.966667   \n",
       "1           0.84923       0.925000       0.939394              0.939394   \n",
       "\n",
       "   test_recall_macro  \n",
       "0           0.962963  \n",
       "1           0.925926  "
      ]
     },
     "execution_count": 16,
     "metadata": {},
     "output_type": "execute_result"
    }
   ],
   "source": [
    "\n",
    "from sklearn.metrics import (\n",
    "    f1_score, accuracy_score, precision_score, recall_score,\n",
    "    classification_report, confusion_matrix, roc_auc_score, roc_curve, precision_recall_curve\n",
    ")\n",
    "import numpy as np\n",
    "\n",
    "reports = []\n",
    "best_estimators = {}\n",
    "\n",
    "for m in top2:\n",
    "    title(f\"Ajuste fino: {m}\")\n",
    "    gs = tune_model(m)\n",
    "    best_estimators[m] = gs.best_estimator_\n",
    "    print(\"Mejores parámetros:\", gs.best_params_)\n",
    "    print(\"Mejor score CV (f1_macro):\", fmt(gs.best_score_))\n",
    "\n",
    "    best = gs.best_estimator_\n",
    "    y_pred = best.predict(X_test)\n",
    "    probas = None\n",
    "    try:\n",
    "        probas = best.predict_proba(X_test)\n",
    "    except Exception:\n",
    "        pass\n",
    "\n",
    "    rep = {\n",
    "        \"model\": m,\n",
    "        \"best_params\": gs.best_params_,\n",
    "        \"cv_best_f1_macro\": float(gs.best_score_),\n",
    "        \"test_f1_macro\": float(f1_score(y_test, y_pred, average=\"macro\")),\n",
    "        \"test_accuracy\": float(accuracy_score(y_test, y_pred)),\n",
    "        \"test_precision_macro\": float(precision_score(y_test, y_pred, average=\"macro\")),\n",
    "        \"test_recall_macro\": float(recall_score(y_test, y_pred, average=\"macro\")),\n",
    "    }\n",
    "    if probas is not None and len(np.unique(y_test)) == 2:\n",
    "        rep[\"test_roc_auc\"] = float(roc_auc_score(y_test, probas[:,1]))\n",
    "    reports.append(rep)\n",
    "\n",
    "    print(\"\\nClassification report (test):\\n\", classification_report(y_test, y_pred))\n",
    "\n",
    "    # Matriz de confusión\n",
    "    cm = confusion_matrix(y_test, y_pred)\n",
    "    plt.figure()\n",
    "    plt.imshow(cm, interpolation='nearest')\n",
    "    plt.title(f\"Matriz de confusión – {m}\")\n",
    "    plt.xlabel(\"Predicho\")\n",
    "    plt.ylabel(\"Real\")\n",
    "    plt.colorbar()\n",
    "    tick_marks = np.arange(cm.shape[0])\n",
    "    plt.xticks(tick_marks, tick_marks)\n",
    "    plt.yticks(tick_marks, tick_marks)\n",
    "    plt.tight_layout()\n",
    "    plt.show()\n",
    "\n",
    "df_test = pd.DataFrame(reports).sort_values(by=\"test_f1_macro\", ascending=False).reset_index(drop=True)\n",
    "df_test\n"
   ]
  },
  {
   "cell_type": "markdown",
   "id": "685c1b44",
   "metadata": {},
   "source": [
    "\n",
    "## 9) Selección del modelo final y justificación\n",
    "\n",
    "**Setup.** `engineered_features` (301 vars), objetivo **`final_label`**; split **80/20** estratificado; **5-fold CV**; métrica principal **F1-macro**.\n",
    "\n",
    "**Hallazgos (CV).**\n",
    "- Top por **F1-macro**: **Logistic Regression** ≈ alto; **LinearSVC** muy cerca; **RF/HGB** competitivos; **KNN/MLP** más bajos.\n",
    "- **Costo/tiempo**: **HGB** y **LinearSVC** rápidos; **LogReg** razonable.\n",
    "\n",
    "**Ajuste fino (Top-2) y Test.**\n",
    "- **Logistic Regression** (p.ej., `C≈3`, `l2`, `liblinear`): **mejor F1-macro en test** y mejor accuracy.\n",
    "- **LinearSVC** (`C≈0.1`): buen desempeño, pero menor que LogReg en test.\n",
    "\n",
    "**Modelo seleccionado.** **Logistic Regression**  \n",
    "Motivos: **(1)** desempeño superior en test, **(2)** varianza CV baja, **(3)** eficiencia de entrenamiento, **(4)** interpretabilidad por coeficientes."
   ]
  }
 ],
 "metadata": {
  "kernelspec": {
   "display_name": "Python 3",
   "language": "python",
   "name": "python3"
  },
  "language_info": {
   "codemirror_mode": {
    "name": "ipython",
    "version": 3
   },
   "file_extension": ".py",
   "mimetype": "text/x-python",
   "name": "python",
   "nbconvert_exporter": "python",
   "pygments_lexer": "ipython3",
   "version": "3.10.0"
  }
 },
 "nbformat": 4,
 "nbformat_minor": 5
}
